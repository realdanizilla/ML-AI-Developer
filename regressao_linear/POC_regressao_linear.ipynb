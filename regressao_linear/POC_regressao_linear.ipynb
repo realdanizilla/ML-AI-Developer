{
 "cells": [
  {
   "cell_type": "code",
   "execution_count": 1,
   "metadata": {},
   "outputs": [
    {
     "data": {
      "text/plain": [
       "(6, 5)"
      ]
     },
     "execution_count": 1,
     "metadata": {},
     "output_type": "execute_result"
    }
   ],
   "source": [
    "import numpy as np\n",
    "\n",
    "y = np.array([10,50,100,200,70,20])\n",
    "X = np.array([\n",
    "    [30,7,1,1.5,2],\n",
    "    [40,10,0,1.6,4],\n",
    "    [50,20,1,1.7,5],\n",
    "    [60,12,0,1.8,7],\n",
    "    [25,10,1,1.65,7],\n",
    "    [24,12,0,1.62,0]\n",
    "])\n",
    "\n",
    "X.shape"
   ]
  },
  {
   "cell_type": "code",
   "execution_count": 2,
   "metadata": {},
   "outputs": [
    {
     "data": {
      "text/plain": [
       "((3,), (3,))"
      ]
     },
     "execution_count": 2,
     "metadata": {},
     "output_type": "execute_result"
    }
   ],
   "source": [
    "a = np.array([1,2,3])\n",
    "b = np.array([4,5,6])\n",
    "a.shape, b.shape"
   ]
  },
  {
   "cell_type": "code",
   "execution_count": 3,
   "metadata": {},
   "outputs": [
    {
     "data": {
      "text/plain": [
       "array([1, 2, 3])"
      ]
     },
     "execution_count": 3,
     "metadata": {},
     "output_type": "execute_result"
    }
   ],
   "source": [
    "a"
   ]
  },
  {
   "cell_type": "code",
   "execution_count": 4,
   "metadata": {},
   "outputs": [
    {
     "data": {
      "text/plain": [
       "(3, 2)"
      ]
     },
     "execution_count": 4,
     "metadata": {},
     "output_type": "execute_result"
    }
   ],
   "source": [
    "c = np.c_[a,b]\n",
    "c.shape"
   ]
  },
  {
   "cell_type": "code",
   "execution_count": 5,
   "metadata": {},
   "outputs": [
    {
     "data": {
      "text/plain": [
       "array([[1., 1., 4.],\n",
       "       [1., 2., 5.],\n",
       "       [1., 3., 6.]])"
      ]
     },
     "execution_count": 5,
     "metadata": {},
     "output_type": "execute_result"
    }
   ],
   "source": [
    "d = np.c_[np.ones((3,)),c]\n",
    "d"
   ]
  },
  {
   "cell_type": "code",
   "execution_count": 6,
   "metadata": {},
   "outputs": [
    {
     "data": {
      "text/plain": [
       "array([[1., 1., 4.],\n",
       "       [1., 2., 5.],\n",
       "       [1., 3., 6.]])"
      ]
     },
     "execution_count": 6,
     "metadata": {},
     "output_type": "execute_result"
    }
   ],
   "source": [
    "e = np.c_[np.ones((c.shape[0],1)),c]\n",
    "e"
   ]
  },
  {
   "cell_type": "code",
   "execution_count": 7,
   "metadata": {},
   "outputs": [
    {
     "data": {
      "text/plain": [
       "array([[ 1.  , 30.  ,  7.  ,  1.  ,  1.5 ,  2.  ],\n",
       "       [ 1.  , 40.  , 10.  ,  0.  ,  1.6 ,  4.  ],\n",
       "       [ 1.  , 50.  , 20.  ,  1.  ,  1.7 ,  5.  ],\n",
       "       [ 1.  , 60.  , 12.  ,  0.  ,  1.8 ,  7.  ],\n",
       "       [ 1.  , 25.  , 10.  ,  1.  ,  1.65,  7.  ],\n",
       "       [ 1.  , 24.  , 12.  ,  0.  ,  1.62,  0.  ]])"
      ]
     },
     "execution_count": 7,
     "metadata": {},
     "output_type": "execute_result"
    }
   ],
   "source": [
    "c = X\n",
    "f = np.c_[np.ones((c.shape[0],1)),c]\n",
    "f"
   ]
  },
  {
   "cell_type": "code",
   "execution_count": 8,
   "metadata": {},
   "outputs": [
    {
     "data": {
      "text/plain": [
       "array([[ 1.  , 30.  ,  7.  ,  1.  ,  1.5 ,  2.  ],\n",
       "       [ 1.  , 40.  , 10.  ,  0.  ,  1.6 ,  4.  ],\n",
       "       [ 1.  , 50.  , 20.  ,  1.  ,  1.7 ,  5.  ],\n",
       "       [ 1.  , 60.  , 12.  ,  0.  ,  1.8 ,  7.  ],\n",
       "       [ 1.  , 25.  , 10.  ,  1.  ,  1.65,  7.  ],\n",
       "       [ 1.  , 24.  , 12.  ,  0.  ,  1.62,  0.  ]])"
      ]
     },
     "execution_count": 8,
     "metadata": {},
     "output_type": "execute_result"
    }
   ],
   "source": [
    "# note que podemos adicionar mais linhas e colunas na matriz X que a função abaixo continua funcionando\n",
    "g = np.c_[np.ones((X.shape[0])),X]\n",
    "g"
   ]
  },
  {
   "cell_type": "code",
   "execution_count": 9,
   "metadata": {},
   "outputs": [
    {
     "data": {
      "text/plain": [
       "array([[ 3.12252391e+02,  2.95975034e-02,  2.25162392e+00,\n",
       "        -1.94089862e+01, -2.13191156e+02,  4.93064765e+00],\n",
       "       [ 2.95975034e-02,  2.39263519e-03, -2.95507914e-03,\n",
       "         2.12626968e-02, -4.43549390e-02, -5.66770808e-03],\n",
       "       [ 2.25162392e+00, -2.95507914e-03,  3.30578512e-02,\n",
       "        -1.85050776e-01, -1.59098533e+00,  4.31215882e-02],\n",
       "       [-1.94089862e+01,  2.12626968e-02, -1.85050776e-01,\n",
       "         2.11644271e+00,  1.29910432e+01, -3.93902408e-01],\n",
       "       [-2.13191156e+02, -4.43549390e-02, -1.59098533e+00,\n",
       "         1.29910432e+01,  1.46661136e+02, -3.37017481e+00],\n",
       "       [ 4.93064765e+00, -5.66770808e-03,  4.31215882e-02,\n",
       "        -3.93902408e-01, -3.37017481e+00,  1.23908763e-01]])"
      ]
     },
     "execution_count": 9,
     "metadata": {},
     "output_type": "execute_result"
    }
   ],
   "source": [
    "# Vamos implementar o beta matricial (Xt.X)^-1 Xt Y\n",
    "# começando pelo (Xt.X)\n",
    "beta = np.linalg.inv(np.dot(g.T,g))\n",
    "beta"
   ]
  },
  {
   "cell_type": "code",
   "execution_count": 10,
   "metadata": {},
   "outputs": [
    {
     "data": {
      "text/plain": [
       "array([[ 1., -0., -0., -0., -0., -0.],\n",
       "       [-0.,  1., -0., -0., -0., -0.],\n",
       "       [-0., -0.,  1., -0., -0.,  0.],\n",
       "       [-0., -0.,  0.,  1.,  0., -0.],\n",
       "       [ 0.,  0.,  0.,  0.,  1.,  0.],\n",
       "       [-0.,  0., -0., -0., -0.,  1.]])"
      ]
     },
     "execution_count": 10,
     "metadata": {},
     "output_type": "execute_result"
    }
   ],
   "source": [
    "# verificando se a matriz identidade multiplicada por essa matriz resulta em uma matriz de 1 na diagonal\n",
    "# se multiplicar a matriz pela inversa dela deve resultar na matriz com 1 na diagonal e 0 no resto\n",
    "test = np.dot(g.T,g)\n",
    "np.round(np.dot(np.linalg.inv(test),test))"
   ]
  },
  {
   "cell_type": "code",
   "execution_count": 11,
   "metadata": {},
   "outputs": [
    {
     "data": {
      "text/plain": [
       "array([[-4.32740691e-01,  1.45692721e+01,  1.58403220e+00,\n",
       "        -8.18181818e+00, -1.15129151e+00, -5.38745387e+00],\n",
       "       [ 2.40858772e-02,  2.11338477e-03,  7.64844012e-03,\n",
       "         1.81818182e-02, -3.17343173e-02, -2.02952030e-02],\n",
       "       [-9.09090909e-02,  9.09090909e-02,  9.09090909e-02,\n",
       "        -9.09090909e-02, -8.67361738e-15, -2.86978603e-14],\n",
       "       [ 7.48742033e-01, -1.19892653e+00,  1.84837303e-01,\n",
       "         2.72727273e-01,  6.64206642e-02, -7.38007380e-02],\n",
       "       [ 5.83696746e-01, -9.69808789e+00, -1.76450855e+00,\n",
       "         5.45454545e+00,  1.18081181e+00,  4.24354244e+00],\n",
       "       [-1.38879571e-01,  2.38510567e-01,  6.03824220e-03,\n",
       "        -9.09090909e-02,  1.32841328e-01, -1.47601476e-01]])"
      ]
     },
     "execution_count": 11,
     "metadata": {},
     "output_type": "execute_result"
    }
   ],
   "source": [
    "# seguindo agora multiplicando por X\n",
    "\n",
    "beta = np.dot(np.linalg.inv(np.dot(g.T,g)),g.T)\n",
    "beta"
   ]
  },
  {
   "cell_type": "code",
   "execution_count": 12,
   "metadata": {},
   "outputs": [
    {
     "data": {
      "text/plain": [
       "array([-9.42163703e+02,  2.12042939e+00, -5.45454545e+00,  2.37437102e+01,\n",
       "        6.02918484e+02, -6.94397853e-01])"
      ]
     },
     "execution_count": 12,
     "metadata": {},
     "output_type": "execute_result"
    }
   ],
   "source": [
    "# agora multiplicando por Y\n",
    "beta = np.dot(np.dot(np.linalg.inv(np.dot(g.T,g)),g.T),y)\n",
    "\n",
    "\n",
    "# uma outra forma seria usando o método .dot já existente em matrizes numpy\n",
    "\n",
    "beta = np.linalg.inv(g.T.dot(g)).dot(g.T).dot(y)\n",
    "beta\n",
    "# lembrando que o primeiro valor é o beta0 ou alfa e os demais são os coeficientes b1 até b5 pois são 5 variáveis"
   ]
  },
  {
   "cell_type": "code",
   "execution_count": 13,
   "metadata": {},
   "outputs": [
    {
     "data": {
      "text/plain": [
       "array([-942.,    2.,   -5.,   24.,  603.,   -1.])"
      ]
     },
     "execution_count": 13,
     "metadata": {},
     "output_type": "execute_result"
    }
   ],
   "source": [
    "# podemos arredondar o beta\n",
    "beta = np.round(beta)\n",
    "beta\n",
    "# random forest e algumas classes de SVM nao precisa padronizar os dados (ex: média 0 e variancia 1 ou entre 0 e 1)\n",
    "# para todas as demais vale fazer a padronização"
   ]
  },
  {
   "cell_type": "code",
   "execution_count": 14,
   "metadata": {},
   "outputs": [],
   "source": [
    "def fit(X,y):\n",
    "    Xb = np.c_[np.ones((X.shape[0],1)),X]\n",
    "    beta = np.linalg.inv(Xb.T.dot(Xb)).dot(Xb.T).dot(y)\n",
    "    intercept = beta[0]\n",
    "    coefficients = beta[1:]\n",
    "    return intercept, coefficients\n",
    "\n",
    "alfa, betas = fit(X,y)"
   ]
  },
  {
   "cell_type": "code",
   "execution_count": 15,
   "metadata": {},
   "outputs": [
    {
     "data": {
      "text/plain": [
       "-942.1637034558288"
      ]
     },
     "execution_count": 15,
     "metadata": {},
     "output_type": "execute_result"
    }
   ],
   "source": [
    "alfa"
   ]
  },
  {
   "cell_type": "code",
   "execution_count": 16,
   "metadata": {},
   "outputs": [
    {
     "data": {
      "text/plain": [
       "array([  2.12042939,  -5.45454545,  23.74371016, 602.91848373,\n",
       "        -0.69439785])"
      ]
     },
     "execution_count": 16,
     "metadata": {},
     "output_type": "execute_result"
    }
   ],
   "source": [
    "betas"
   ]
  },
  {
   "cell_type": "code",
   "execution_count": 17,
   "metadata": {},
   "outputs": [
    {
     "data": {
      "text/plain": [
       "array([-9.42163703e+02,  2.12042939e+00, -5.45454545e+00,  2.37437102e+01,\n",
       "        6.02918484e+02, -6.94397853e-01])"
      ]
     },
     "execution_count": 17,
     "metadata": {},
     "output_type": "execute_result"
    }
   ],
   "source": [
    "np.r_[alfa,betas]"
   ]
  },
  {
   "cell_type": "code",
   "execution_count": 18,
   "metadata": {},
   "outputs": [
    {
     "data": {
      "text/plain": [
       "array([ 10.,  50., 100., 200.,  70.,  20.])"
      ]
     },
     "execution_count": 18,
     "metadata": {},
     "output_type": "execute_result"
    }
   ],
   "source": [
    "Xb = np.c_[np.ones((X.shape[0],1)),X]\n",
    "Xb.dot(np.r_[alfa,betas])\n",
    "# comparamos esse resultado com os Y iniciais para avaliar o modelo"
   ]
  },
  {
   "cell_type": "code",
   "execution_count": 19,
   "metadata": {},
   "outputs": [],
   "source": [
    "def predict(X):\n",
    "    Xb = np.c_[np.ones((X.shape[0],1)),X]\n",
    "    return Xb.dot(np.r_[alfa,betas]) # concatena alfa e betas em uma mesma matriz"
   ]
  },
  {
   "cell_type": "code",
   "execution_count": 21,
   "metadata": {},
   "outputs": [
    {
     "data": {
      "text/plain": [
       "array([50.])"
      ]
     },
     "execution_count": 21,
     "metadata": {},
     "output_type": "execute_result"
    }
   ],
   "source": [
    "Z = np.array([[40,10,0,1.6,4]])\n",
    "a = predict(Z)\n",
    "a"
   ]
  },
  {
   "cell_type": "code",
   "execution_count": 23,
   "metadata": {},
   "outputs": [
    {
     "data": {
      "text/plain": [
       "array([-42.98591077])"
      ]
     },
     "execution_count": 23,
     "metadata": {},
     "output_type": "execute_result"
    }
   ],
   "source": [
    "b = predict(np.array([[35,45,0,1.78,4]]))\n",
    "b"
   ]
  }
 ],
 "metadata": {
  "kernelspec": {
   "display_name": "Python 3",
   "language": "python",
   "name": "python3"
  },
  "language_info": {
   "codemirror_mode": {
    "name": "ipython",
    "version": 3
   },
   "file_extension": ".py",
   "mimetype": "text/x-python",
   "name": "python",
   "nbconvert_exporter": "python",
   "pygments_lexer": "ipython3",
   "version": "3.12.3"
  }
 },
 "nbformat": 4,
 "nbformat_minor": 2
}
